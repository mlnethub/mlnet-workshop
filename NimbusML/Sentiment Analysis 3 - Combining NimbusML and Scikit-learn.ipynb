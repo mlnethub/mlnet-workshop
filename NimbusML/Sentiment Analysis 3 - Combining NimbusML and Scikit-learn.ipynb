{
 "cells": [
  {
   "cell_type": "code",
   "execution_count": 1,
   "id": "23bdd34d",
   "metadata": {},
   "outputs": [],
   "source": [
    "import numpy as np\n",
    "import time\n",
    "import sklearn\n",
    "import os\n",
    "from IPython.display import display\n",
    "import matplotlib.pyplot as plt\n",
    "import pandas as pd\n",
    "from nimbusml.datasets import get_dataset\n",
    "from nimbusml.feature_extraction.text.extractor import Ngram\n",
    "from nimbusml.feature_extraction.text import NGramFeaturizer\n",
    "from sklearn.feature_extraction.text import TfidfVectorizer as sklearn_TfidfVectorizer\n",
    "from sklearn.decomposition import TruncatedSVD as sklearn_TruncatedSVD\n",
    "from sklearn.pipeline import Pipeline as sklearn_ppl\n",
    "from sklearn.metrics import roc_auc_score, roc_curve\n",
    "from sklearn.metrics import auc as sk_auc"
   ]
  },
  {
   "cell_type": "code",
   "execution_count": 2,
   "id": "9fa4d7bd",
   "metadata": {},
   "outputs": [],
   "source": [
    "def plot_roc_score(label_test, score):\n",
    "    x, y, _ = roc_curve(label_test, score)\n",
    "    roc_auc = sk_auc(x, y)\n",
    "    \n",
    "    plt.figure()\n",
    "    lw = 2\n",
    "    plt.plot(x, y, color='darkorange',\n",
    "             lw=lw, label='ROC curve (area = %0.2f)' % roc_auc)\n",
    "    plt.plot([0, 1], [0, 1], color='navy', lw=lw, linestyle='--')\n",
    "    plt.xlim([0.0, 1.0])\n",
    "    plt.ylim([0.0, 1.05])\n",
    "    plt.xlabel('False Positive Rate')\n",
    "    plt.ylabel('True Positive Rate')\n",
    "    plt.title('Receiver operating characteristic')\n",
    "    plt.legend(loc=\"lower right\")\n",
    "    plt.show()"
   ]
  },
  {
   "cell_type": "code",
   "execution_count": 3,
   "id": "8bd31f31",
   "metadata": {},
   "outputs": [
    {
     "name": "stdout",
     "output_type": "stream",
     "text": [
      "train-250.wikipedia.sample.tsv\n",
      "test.wikipedia.sample.tsv\n"
     ]
    }
   ],
   "source": [
    "# Get input data file path from the package\n",
    "Train_file = get_dataset('wiki_detox_train').as_filepath()\n",
    "Test_file = get_dataset('wiki_detox_test').as_filepath()\n",
    "print(os.path.basename(Train_file))\n",
    "print(os.path.basename(Test_file))"
   ]
  },
  {
   "cell_type": "code",
   "execution_count": 4,
   "id": "c2b71ef6",
   "metadata": {},
   "outputs": [
    {
     "data": {
      "text/html": [
       "<div>\n",
       "<style scoped>\n",
       "    .dataframe tbody tr th:only-of-type {\n",
       "        vertical-align: middle;\n",
       "    }\n",
       "\n",
       "    .dataframe tbody tr th {\n",
       "        vertical-align: top;\n",
       "    }\n",
       "\n",
       "    .dataframe thead th {\n",
       "        text-align: right;\n",
       "    }\n",
       "</style>\n",
       "<table border=\"1\" class=\"dataframe\">\n",
       "  <thead>\n",
       "    <tr style=\"text-align: right;\">\n",
       "      <th></th>\n",
       "      <th>Sentiment</th>\n",
       "      <th>SentimentText</th>\n",
       "    </tr>\n",
       "  </thead>\n",
       "  <tbody>\n",
       "    <tr>\n",
       "      <th>0</th>\n",
       "      <td>1</td>\n",
       "      <td>==RUDE== Dude, you are rude upload that carl...</td>\n",
       "    </tr>\n",
       "    <tr>\n",
       "      <th>1</th>\n",
       "      <td>1</td>\n",
       "      <td>== OK! ==  IM GOING TO VANDALIZE WILD ONES W...</td>\n",
       "    </tr>\n",
       "    <tr>\n",
       "      <th>2</th>\n",
       "      <td>1</td>\n",
       "      <td>Stop trolling, zapatancas, calling me a lia...</td>\n",
       "    </tr>\n",
       "    <tr>\n",
       "      <th>3</th>\n",
       "      <td>1</td>\n",
       "      <td>==You're cool==  You seem like a really cool...</td>\n",
       "    </tr>\n",
       "    <tr>\n",
       "      <th>4</th>\n",
       "      <td>1</td>\n",
       "      <td>::::: Why are you threatening me? I'm not bei...</td>\n",
       "    </tr>\n",
       "  </tbody>\n",
       "</table>\n",
       "</div>"
      ],
      "text/plain": [
       "   Sentiment                                      SentimentText\n",
       "0          1    ==RUDE== Dude, you are rude upload that carl...\n",
       "1          1    == OK! ==  IM GOING TO VANDALIZE WILD ONES W...\n",
       "2          1     Stop trolling, zapatancas, calling me a lia...\n",
       "3          1    ==You're cool==  You seem like a really cool...\n",
       "4          1   ::::: Why are you threatening me? I'm not bei..."
      ]
     },
     "execution_count": 4,
     "metadata": {},
     "output_type": "execute_result"
    }
   ],
   "source": [
    "# Loading data\n",
    "# dataTrain = pd.read_csv(Train_file, encoding=\"ISO-8859-1\", sep = \"\\t\") # Error under py2.7 but not 3.6\n",
    "dataTrain = pd.read_csv(Train_file, sep = \"\\t\")\n",
    "dataTest = pd.read_csv(Test_file, sep = \"\\t\")\n",
    "\n",
    "dataTrain.head()"
   ]
  },
  {
   "cell_type": "code",
   "execution_count": 5,
   "id": "0ef7cb67",
   "metadata": {},
   "outputs": [],
   "source": [
    "# Creating pipeline\n",
    "t0 = time.time()\n",
    "\n",
    "featurizer = NGramFeaturizer(word_feature_extractor=Ngram())\n",
    "svd = sklearn_TruncatedSVD(random_state = 1, n_components = 400)\n",
    "lr = sklearn.linear_model.LogisticRegression()\n",
    "sk_ppl = sklearn_ppl([(\"featurizer\",featurizer),\n",
    "                     (\"svd\",svd),\n",
    "                     (\"lr\",lr)])"
   ]
  },
  {
   "cell_type": "code",
   "execution_count": 6,
   "id": "e48e82ff",
   "metadata": {},
   "outputs": [
    {
     "name": "stdout",
     "output_type": "stream",
     "text": [
      "Training time: 2.65s\n"
     ]
    }
   ],
   "source": [
    "# Training\n",
    "sk_ppl.fit(dataTrain[[\"SentimentText\"]], dataTrain[\"Sentiment\"]) #UPDATE ONCE SERIES IS SUPPORTED FOR X!\n",
    "\n",
    "train_time_sec = time.time() - t0\n",
    "print(\"Training time: \" + str(round(train_time_sec,2)) + \"s\")"
   ]
  },
  {
   "cell_type": "code",
   "execution_count": 7,
   "id": "54f40bb0",
   "metadata": {},
   "outputs": [
    {
     "name": "stdout",
     "output_type": "stream",
     "text": [
      "Testing time: 1.09s\n"
     ]
    }
   ],
   "source": [
    "# Testing\n",
    "t0 = time.time()\n",
    "Y_pred = sk_ppl.predict(dataTest[\"SentimentText\"].to_frame()) #UPDATE ONCE SERIES IS SUPPORTED FOR X!\n",
    "Y_prob = sk_ppl.predict_proba(dataTest[\"SentimentText\"].to_frame())#UPDATE ONCE SERIES IS SUPPORTED FOR X!\n",
    "test_time_sec = time.time() - t0\n",
    "print(\"Testing time: \" + str(round(test_time_sec,2)) + \"s\")"
   ]
  },
  {
   "cell_type": "code",
   "execution_count": 8,
   "id": "73e5f8dc",
   "metadata": {},
   "outputs": [
    {
     "data": {
      "image/png": "[encoded data removed]",
      "text/plain": [
       "<Figure size 432x288 with 1 Axes>"
      ]
     },
     "metadata": {
      "needs_background": "light"
     },
     "output_type": "display_data"
    }
   ],
   "source": [
    "# Plot roc\n",
    "plot_roc_score(dataTest[\"Sentiment\"], Y_prob[:,1]);"
   ]
  },
  {
   "cell_type": "code",
   "execution_count": null,
   "id": "fc6a7e9d",
   "metadata": {},
   "outputs": [],
   "source": []
  }
 ],
 "metadata": {
  "kernelspec": {
   "display_name": "Python 3",
   "language": "python",
   "name": "python3"
  },
  "language_info": {
   "codemirror_mode": {
    "name": "ipython",
    "version": 3
   },
   "file_extension": ".py",
   "mimetype": "text/x-python",
   "name": "python",
   "nbconvert_exporter": "python",
   "pygments_lexer": "ipython3",
   "version": "3.7.10"
  }
 },
 "nbformat": 4,
 "nbformat_minor": 5
}
