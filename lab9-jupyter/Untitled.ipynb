{
 "cells": [
  {
   "cell_type": "code",
   "execution_count": 8,
   "metadata": {},
   "outputs": [
    {
     "data": {
      "text/html": [
       "Installing package Microsoft.ML......done!"
      ]
     },
     "metadata": {},
     "output_type": "display_data"
    },
    {
     "data": {
      "text/html": [
       "Successfully added reference to package Microsoft.ML, version 1.4.0"
      ]
     },
     "metadata": {},
     "output_type": "display_data"
    },
    {
     "data": {
      "text/html": [
       "Installing package XPlot.Plotly................done!"
      ]
     },
     "metadata": {},
     "output_type": "display_data"
    },
    {
     "data": {
      "text/html": [
       "Successfully added reference to package XPlot.Plotly, version 3.0.1"
      ]
     },
     "metadata": {},
     "output_type": "display_data"
    }
   ],
   "source": [
    "#r \"nuget:Microsoft.ML\"\n",
    "#r \"nuget:XPlot.Plotly\""
   ]
  },
  {
   "cell_type": "code",
   "execution_count": 10,
   "metadata": {},
   "outputs": [],
   "source": [
    "using Microsoft.ML;\n",
    "using Microsoft.ML.Data;\n",
    "using XPlot.Plotly;"
   ]
  },
  {
   "cell_type": "code",
   "execution_count": 11,
   "metadata": {},
   "outputs": [],
   "source": [
    "public class TaxiTrip\n",
    "{\n",
    "[LoadColumn(0)]\n",
    "public string VendorId;\n",
    "\n",
    "[LoadColumn(1)]\n",
    "public string RateCode;\n",
    "\n",
    "[LoadColumn(2)]\n",
    "public float PassengerCount;\n",
    "\n",
    "[LoadColumn(3)]\n",
    "public float TripTime;\n",
    "\n",
    "[LoadColumn(4)]\n",
    "public float TripDistance;\n",
    "\n",
    "[LoadColumn(5)]\n",
    "public string PaymentType;\n",
    "\n",
    "[LoadColumn(6)]\n",
    "public float FareAmount;\n",
    "}\n",
    "\n",
    "public class TaxiTripFarePrediction\n",
    "{\n",
    "[ColumnName(\"Score\")]\n",
    "public float Score;\n",
    "}"
   ]
  },
  {
   "cell_type": "code",
   "execution_count": 13,
   "metadata": {},
   "outputs": [
    {
     "data": {
      "text/html": [
       "<h1>Code for loading the data into IDataViews: training dataset and test dataset</h1>"
      ]
     },
     "metadata": {},
     "output_type": "display_data"
    },
    {
     "data": {
      "text/html": [
       "<h4>Schema of training DataView:</h4>"
      ]
     },
     "metadata": {},
     "output_type": "display_data"
    },
    {
     "data": {
      "text/html": [
       "<table><thead><tr><th><i>index</i></th><th>Name</th><th>Index</th><th>IsHidden</th><th>Type</th><th>Annotations</th></tr></thead><tbody><tr><td>0</td><td>VendorId</td><td>0</td><td>False</td><td>{ Microsoft.ML.Data.TextDataViewType: RawType: System.ReadOnlyMemory&lt;System.Char&gt; }</td><td>{ Microsoft.ML.DataViewSchema+Annotations: Schema: [  ] }</td></tr><tr><td>1</td><td>RateCode</td><td>1</td><td>False</td><td>{ Microsoft.ML.Data.TextDataViewType: RawType: System.ReadOnlyMemory&lt;System.Char&gt; }</td><td>{ Microsoft.ML.DataViewSchema+Annotations: Schema: [  ] }</td></tr><tr><td>2</td><td>PassengerCount</td><td>2</td><td>False</td><td>{ Microsoft.ML.Data.NumberDataViewType: RawType: System.Single }</td><td>{ Microsoft.ML.DataViewSchema+Annotations: Schema: [  ] }</td></tr><tr><td>3</td><td>TripTime</td><td>3</td><td>False</td><td>{ Microsoft.ML.Data.NumberDataViewType: RawType: System.Single }</td><td>{ Microsoft.ML.DataViewSchema+Annotations: Schema: [  ] }</td></tr><tr><td>4</td><td>TripDistance</td><td>4</td><td>False</td><td>{ Microsoft.ML.Data.NumberDataViewType: RawType: System.Single }</td><td>{ Microsoft.ML.DataViewSchema+Annotations: Schema: [  ] }</td></tr><tr><td>5</td><td>PaymentType</td><td>5</td><td>False</td><td>{ Microsoft.ML.Data.TextDataViewType: RawType: System.ReadOnlyMemory&lt;System.Char&gt; }</td><td>{ Microsoft.ML.DataViewSchema+Annotations: Schema: [  ] }</td></tr><tr><td>6</td><td>FareAmount</td><td>6</td><td>False</td><td>{ Microsoft.ML.Data.NumberDataViewType: RawType: System.Single }</td><td>{ Microsoft.ML.DataViewSchema+Annotations: Schema: [  ] }</td></tr></tbody></table>"
      ]
     },
     "metadata": {},
     "output_type": "display_data"
    }
   ],
   "source": [
    "display(h1(\"Code for loading the data into IDataViews: training dataset and test dataset\"));\n",
    "\n",
    "MLContext mlContext = new MLContext(seed: 0);\n",
    "\n",
    "string TrainDataPath = \"./taxi-fare-train.csv\";\n",
    "string TestDataPath = \"./taxi-fare-test.csv\";\n",
    "\n",
    "IDataView trainDataView = mlContext.Data.LoadFromTextFile<TaxiTrip>(TrainDataPath, hasHeader: true, separatorChar: ',');\n",
    "IDataView testDataView = mlContext.Data.LoadFromTextFile<TaxiTrip>(TestDataPath, hasHeader: true, separatorChar: ',');\n",
    "\n",
    "display(h4(\"Schema of training DataView:\"));\n",
    "display(trainDataView.Schema);"
   ]
  },
  {
   "cell_type": "code",
   "execution_count": null,
   "metadata": {},
   "outputs": [],
   "source": []
  }
 ],
 "metadata": {
  "kernelspec": {
   "display_name": ".NET (C#)",
   "language": "C#",
   "name": ".net-csharp"
  },
  "language_info": {
   "file_extension": ".cs",
   "mimetype": "text/x-csharp",
   "name": "C#",
   "pygments_lexer": "csharp",
   "version": "8.0"
  }
 },
 "nbformat": 4,
 "nbformat_minor": 2
}
