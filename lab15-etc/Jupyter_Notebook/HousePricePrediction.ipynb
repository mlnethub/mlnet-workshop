{
 "cells": [
  {
   "cell_type": "code",
   "execution_count": null,
   "metadata": {
    "dotnet_interactive": {
     "language": "csharp"
    }
   },
   "outputs": [],
   "source": [
    "#r \"nuget:Microsoft.ML\"\r\n",
    "#r \"nuget:XPlot.Plotly\""
   ]
  },
  {
   "cell_type": "code",
   "execution_count": null,
   "metadata": {
    "dotnet_interactive": {
     "language": "csharp"
    }
   },
   "outputs": [],
   "source": [
    "using System;\r\n",
    "using System.IO;\r\n",
    "using System.Linq;\r\n",
    "using Microsoft.ML;\r\n",
    "using Microsoft.ML.Data;\r\n",
    "using XPlot.Plotly;"
   ]
  },
  {
   "cell_type": "code",
   "execution_count": null,
   "metadata": {
    "dotnet_interactive": {
     "language": "csharp"
    }
   },
   "outputs": [],
   "source": [
    "/// <summary>\n",
    "/// The HouseBlockData class holds one single housing block data record.\n",
    "/// </summary>\n",
    "public class HouseBlockData\n",
    "{\n",
    "    [LoadColumn(0)] public float Longitude { get; set; }\n",
    "    [LoadColumn(1)] public float Latitude { get; set; }\n",
    "    [LoadColumn(2)] public float HousingMedianAge { get; set; }\n",
    "    [LoadColumn(3)] public float TotalRooms { get; set; }\n",
    "    [LoadColumn(4)] public float TotalBedrooms { get; set; }\n",
    "    [LoadColumn(5)] public float Population { get; set; }\n",
    "    [LoadColumn(6)] public float Households { get; set; }\n",
    "    [LoadColumn(7)] public float MedianIncome { get; set; }\n",
    "    [LoadColumn(8)] public float MedianHouseValue { get; set; }\n",
    "}"
   ]
  },
  {
   "cell_type": "code",
   "execution_count": null,
   "metadata": {
    "dotnet_interactive": {
     "language": "csharp"
    }
   },
   "outputs": [],
   "source": [
    "// filename for data set\n",
    "var dataPath = Path.Combine(Environment.CurrentDirectory, \"california_housing.csv\");\n",
    "\n",
    "// create the machine learning context\n",
    "var context = new MLContext();\n",
    "\n",
    "// load the dataset\n",
    "var data = context.Data.LoadFromTextFile<HouseBlockData>(\n",
    "    path: dataPath, \n",
    "    hasHeader:true, \n",
    "    separatorChar: ',');"
   ]
  },
  {
   "cell_type": "code",
   "execution_count": null,
   "metadata": {
    "dotnet_interactive": {
     "language": "csharp"
    }
   },
   "outputs": [],
   "source": [
    "// get an array of housing data\n",
    "var houses = context.Data.CreateEnumerable<HouseBlockData>(data, reuseRowObject: false).ToArray();"
   ]
  },
  {
   "cell_type": "code",
   "execution_count": null,
   "metadata": {
    "dotnet_interactive": {
     "language": "csharp"
    }
   },
   "outputs": [
    {
     "data": {
      "text/html": [
       "<table><thead><tr><th><i>index</i></th><th>Longitude</th><th>Latitude</th><th>HousingMedianAge</th><th>TotalRooms</th><th>TotalBedrooms</th><th>Population</th><th>Households</th><th>MedianIncome</th><th>MedianHouseValue</th></tr></thead><tbody><tr><td>0</td><td><div class=\"dni-plaintext\">-114.31</div></td><td><div class=\"dni-plaintext\">34.19</div></td><td><div class=\"dni-plaintext\">15</div></td><td><div class=\"dni-plaintext\">5612</div></td><td><div class=\"dni-plaintext\">1283</div></td><td><div class=\"dni-plaintext\">1015</div></td><td><div class=\"dni-plaintext\">472</div></td><td><div class=\"dni-plaintext\">1.4936</div></td><td><div class=\"dni-plaintext\">66900</div></td></tr><tr><td>1</td><td><div class=\"dni-plaintext\">-114.47</div></td><td><div class=\"dni-plaintext\">34.4</div></td><td><div class=\"dni-plaintext\">19</div></td><td><div class=\"dni-plaintext\">7650</div></td><td><div class=\"dni-plaintext\">1901</div></td><td><div class=\"dni-plaintext\">1129</div></td><td><div class=\"dni-plaintext\">463</div></td><td><div class=\"dni-plaintext\">1.82</div></td><td><div class=\"dni-plaintext\">80100</div></td></tr><tr><td>2</td><td><div class=\"dni-plaintext\">-114.56</div></td><td><div class=\"dni-plaintext\">33.69</div></td><td><div class=\"dni-plaintext\">17</div></td><td><div class=\"dni-plaintext\">720</div></td><td><div class=\"dni-plaintext\">174</div></td><td><div class=\"dni-plaintext\">333</div></td><td><div class=\"dni-plaintext\">117</div></td><td><div class=\"dni-plaintext\">1.6509</div></td><td><div class=\"dni-plaintext\">85700</div></td></tr><tr><td>3</td><td><div class=\"dni-plaintext\">-114.57</div></td><td><div class=\"dni-plaintext\">33.64</div></td><td><div class=\"dni-plaintext\">14</div></td><td><div class=\"dni-plaintext\">1501</div></td><td><div class=\"dni-plaintext\">337</div></td><td><div class=\"dni-plaintext\">515</div></td><td><div class=\"dni-plaintext\">226</div></td><td><div class=\"dni-plaintext\">3.1917</div></td><td><div class=\"dni-plaintext\">73400</div></td></tr><tr><td>4</td><td><div class=\"dni-plaintext\">-114.57</div></td><td><div class=\"dni-plaintext\">33.57</div></td><td><div class=\"dni-plaintext\">20</div></td><td><div class=\"dni-plaintext\">1454</div></td><td><div class=\"dni-plaintext\">326</div></td><td><div class=\"dni-plaintext\">624</div></td><td><div class=\"dni-plaintext\">262</div></td><td><div class=\"dni-plaintext\">1.925</div></td><td><div class=\"dni-plaintext\">65500</div></td></tr><tr><td>5</td><td><div class=\"dni-plaintext\">-114.58</div></td><td><div class=\"dni-plaintext\">33.63</div></td><td><div class=\"dni-plaintext\">29</div></td><td><div class=\"dni-plaintext\">1387</div></td><td><div class=\"dni-plaintext\">236</div></td><td><div class=\"dni-plaintext\">671</div></td><td><div class=\"dni-plaintext\">239</div></td><td><div class=\"dni-plaintext\">3.3438</div></td><td><div class=\"dni-plaintext\">74000</div></td></tr><tr><td>6</td><td><div class=\"dni-plaintext\">-114.58</div></td><td><div class=\"dni-plaintext\">33.61</div></td><td><div class=\"dni-plaintext\">25</div></td><td><div class=\"dni-plaintext\">2907</div></td><td><div class=\"dni-plaintext\">680</div></td><td><div class=\"dni-plaintext\">1841</div></td><td><div class=\"dni-plaintext\">633</div></td><td><div class=\"dni-plaintext\">2.6768</div></td><td><div class=\"dni-plaintext\">82400</div></td></tr><tr><td>7</td><td><div class=\"dni-plaintext\">-114.59</div></td><td><div class=\"dni-plaintext\">34.83</div></td><td><div class=\"dni-plaintext\">41</div></td><td><div class=\"dni-plaintext\">812</div></td><td><div class=\"dni-plaintext\">168</div></td><td><div class=\"dni-plaintext\">375</div></td><td><div class=\"dni-plaintext\">158</div></td><td><div class=\"dni-plaintext\">1.7083</div></td><td><div class=\"dni-plaintext\">48500</div></td></tr><tr><td>8</td><td><div class=\"dni-plaintext\">-114.59</div></td><td><div class=\"dni-plaintext\">33.61</div></td><td><div class=\"dni-plaintext\">34</div></td><td><div class=\"dni-plaintext\">4789</div></td><td><div class=\"dni-plaintext\">1175</div></td><td><div class=\"dni-plaintext\">3134</div></td><td><div class=\"dni-plaintext\">1056</div></td><td><div class=\"dni-plaintext\">2.1782</div></td><td><div class=\"dni-plaintext\">58400</div></td></tr><tr><td>9</td><td><div class=\"dni-plaintext\">-114.6</div></td><td><div class=\"dni-plaintext\">34.83</div></td><td><div class=\"dni-plaintext\">46</div></td><td><div class=\"dni-plaintext\">1497</div></td><td><div class=\"dni-plaintext\">309</div></td><td><div class=\"dni-plaintext\">787</div></td><td><div class=\"dni-plaintext\">271</div></td><td><div class=\"dni-plaintext\">2.1908</div></td><td><div class=\"dni-plaintext\">48100</div></td></tr></tbody></table>"
      ]
     },
     "output_type": "unknown"
    }
   ],
   "source": [
    "display(houses.Take(10));"
   ]
  },
  {
   "cell_type": "code",
   "execution_count": null,
   "metadata": {
    "dotnet_interactive": {
     "language": "csharp"
    }
   },
   "outputs": [
    {
     "data": {
      "text/html": [
       "<table><thead><tr><th>Height</th><th>Id</th><th>PlotlySrc</th><th>Width</th></tr></thead><tbody><tr><td><div class=\"dni-plaintext\">600</div></td><td><div class=\"dni-plaintext\">1d9b8dda-a7ae-4221-86d3-c1f30ec11b0e</div></td><td><div class=\"dni-plaintext\">https://cdn.plot.ly/plotly-latest.min.js</div></td><td><div class=\"dni-plaintext\">600</div></td></tr></tbody></table>"
      ]
     },
     "output_type": "unknown"
    }
   ],
   "source": [
    "// plot median house value by latitude and longitude\r\n",
    "var chart = Chart.Plot(\r\n",
    "    new Scattergl()\r\n",
    "    {\r\n",
    "        x = houses.Select(v => v.Longitude),\r\n",
    "        y = houses.Select(v => v.Latitude),\r\n",
    "        mode = \"markers\",\r\n",
    "        marker = new Marker()\r\n",
    "        {\r\n",
    "            color = houses.Select(v => v.MedianHouseValue),\r\n",
    "            colorscale = \"Jet\"\r\n",
    "        }\r\n",
    "    }\r\n",
    ");\r\n",
    "chart.WithXTitle(\"Longitude\");\r\n",
    "chart.WithYTitle(\"Latitude\");\r\n",
    "chart.WithTitle(\"Median house value by location\");\r\n",
    "chart.Width = 600;\r\n",
    "chart.Height = 600;\r\n",
    "display(chart);"
   ]
  },
  {
   "cell_type": "code",
   "execution_count": null,
   "metadata": {
    "dotnet_interactive": {
     "language": "csharp"
    }
   },
   "outputs": [
    {
     "data": {
      "text/html": [
       "<table><thead><tr><th>Height</th><th>Id</th><th>PlotlySrc</th><th>Width</th></tr></thead><tbody><tr><td><div class=\"dni-plaintext\">600</div></td><td><div class=\"dni-plaintext\">aac0a253-a9af-4671-9b28-fba556e3ca72</div></td><td><div class=\"dni-plaintext\">https://cdn.plot.ly/plotly-latest.min.js</div></td><td><div class=\"dni-plaintext\">600</div></td></tr></tbody></table>"
      ]
     },
     "output_type": "unknown"
    }
   ],
   "source": [
    "// plot median house value by median income\r\n",
    "chart = Chart.Plot(\r\n",
    "    new Scattergl()\r\n",
    "    {\r\n",
    "        x = houses.Select(v => v.MedianIncome),\r\n",
    "        y = houses.Select(v => v.MedianHouseValue),\r\n",
    "        mode = \"markers\"\r\n",
    "    }\r\n",
    ");\r\n",
    "chart.WithXTitle(\"Median Income\");\r\n",
    "chart.WithYTitle(\"Median House Value\");\r\n",
    "chart.WithTitle(\"Median house value by income\");\r\n",
    "chart.Width = 600;\r\n",
    "chart.Height = 600;\r\n",
    "display(chart);"
   ]
  },
  {
   "cell_type": "code",
   "execution_count": null,
   "metadata": {
    "dotnet_interactive": {
     "language": "csharp"
    }
   },
   "outputs": [],
   "source": [
    "// keep only records with a median house value <= 500,000\n",
    "data = context.Data.FilterRowsByColumn(\n",
    "    data,\n",
    "    \"MedianHouseValue\",\n",
    "    upperBound: 500_000\n",
    ");"
   ]
  },
  {
   "cell_type": "code",
   "execution_count": null,
   "metadata": {
    "dotnet_interactive": {
     "language": "csharp"
    }
   },
   "outputs": [
    {
     "data": {
      "text/html": [
       "<table><thead><tr><th>Height</th><th>Id</th><th>PlotlySrc</th><th>Width</th></tr></thead><tbody><tr><td><div class=\"dni-plaintext\">600</div></td><td><div class=\"dni-plaintext\">1bc14f08-eae8-4577-bcba-31020336ec51</div></td><td><div class=\"dni-plaintext\">https://cdn.plot.ly/plotly-latest.min.js</div></td><td><div class=\"dni-plaintext\">600</div></td></tr></tbody></table>"
      ]
     },
     "output_type": "unknown"
    }
   ],
   "source": [
    "// get an array of housing data\r\n",
    "houses = context.Data.CreateEnumerable<HouseBlockData>(data, reuseRowObject: false).ToArray();\r\n",
    "\r\n",
    "// plot median house value by median income\r\n",
    "chart = Chart.Plot(\r\n",
    "    new Scattergl()\r\n",
    "    {\r\n",
    "        x = houses.Select(v => v.MedianIncome),\r\n",
    "        y = houses.Select(v => v.MedianHouseValue),\r\n",
    "        mode = \"markers\"\r\n",
    "    }\r\n",
    ");\r\n",
    "chart.WithXTitle(\"Median Income\");\r\n",
    "chart.WithYTitle(\"Median House Value\");\r\n",
    "chart.WithTitle(\"Median house value by income\");\r\n",
    "chart.Width = 600;\r\n",
    "chart.Height = 600;\r\n",
    "display(chart);"
   ]
  },
  {
   "cell_type": "code",
   "execution_count": null,
   "metadata": {
    "dotnet_interactive": {
     "language": "csharp"
    }
   },
   "outputs": [],
   "source": [
    "/// <summary>\n",
    "/// The ToMedianHouseValue class is used in a column data conversion.\n",
    "/// </summary>\n",
    "public class ToMedianHouseValue\n",
    "{\n",
    "    public float NormalizedMedianHouseValue { get; set; }\n",
    "}"
   ]
  },
  {
   "cell_type": "code",
   "execution_count": null,
   "metadata": {
    "dotnet_interactive": {
     "language": "csharp"
    }
   },
   "outputs": [],
   "source": [
    "// build a data loading pipeline\n",
    "// step 1: divide the median house value by 1000\n",
    "var pipeline = context.Transforms.CustomMapping<HouseBlockData, ToMedianHouseValue>(\n",
    "    (input, output) => { output.NormalizedMedianHouseValue = input.MedianHouseValue / 1000; },\n",
    "    contractName: \"MedianHouseValue\"\n",
    ");"
   ]
  },
  {
   "cell_type": "code",
   "execution_count": null,
   "metadata": {
    "dotnet_interactive": {
     "language": "csharp"
    }
   },
   "outputs": [
    {
     "data": {
      "application/vnd.code.notebook.error": {
       "message": "(2,1): error CS0103: The name 'Formatter' does not exist in the current context",
       "name": "Error"
      }
     },
     "output_type": "unknown"
    }
   ],
   "source": [
    "using Microsoft.AspNetCore.Html;\n",
    "Formatter<DataDebuggerPreview>.Register((preview, writer) =>\n",
    "{\n",
    "    var headers = new List<IHtmlContent>();\n",
    "    headers.Add(th(i(\"index\")));\n",
    "    headers.AddRange(preview.ColumnView.Select(c => (IHtmlContent) th(c.Column.Name)));\n",
    "    var rows = new List<List<IHtmlContent>>();\n",
    "    var count = 0;\n",
    "    foreach (var row in preview.RowView)\n",
    "    {\n",
    "        var cells = new List<IHtmlContent>();\n",
    "        cells.Add(td(count));\n",
    "        foreach (var obj in row.Values)\n",
    "        {\n",
    "            cells.Add(td(obj.Value));\n",
    "        }\n",
    "        rows.Add(cells);\n",
    "        count++;\n",
    "    }\n",
    "    \n",
    "    var t = table(\n",
    "        thead(\n",
    "            headers),\n",
    "        tbody(\n",
    "            rows.Select(\n",
    "                r => tr(r))));\n",
    "    \n",
    "    writer.Write(t);\n",
    "}, \"text/html\");"
   ]
  },
  {
   "cell_type": "code",
   "execution_count": null,
   "metadata": {
    "dotnet_interactive": {
     "language": "csharp"
    }
   },
   "outputs": [],
   "source": [
    "// run the pipeline and show the first 10 records\n",
    "var model = pipeline.Fit(data);\n",
    "var transformedData = model.Transform(data);\n",
    "var preview = transformedData.Preview(maxRows: 10);\n",
    "display(preview);"
   ]
  },
  {
   "cell_type": "code",
   "execution_count": null,
   "metadata": {
    "dotnet_interactive": {
     "language": "csharp"
    }
   },
   "outputs": [],
   "source": [
    "/// <summary>\n",
    "/// The FromLocation class is used in a column data conversion.\n",
    "/// </summary>\n",
    "public class FromLocation\n",
    "{\n",
    "    public float[] EncodedLongitude { get; set; }\n",
    "    public float[] EncodedLatitude { get; set; }\n",
    "}\n",
    "\n",
    "/// <summary>\n",
    "/// The ToLocation class is used in a column data conversion.\n",
    "/// </summary>\n",
    "public class ToLocation\n",
    "{\n",
    "    public float[] Location { get; set; }\n",
    "}"
   ]
  },
  {
   "cell_type": "code",
   "execution_count": null,
   "metadata": {
    "dotnet_interactive": {
     "language": "csharp"
    }
   },
   "outputs": [],
   "source": [
    "// step 2: bin the longitude\n",
    "var pipeline2 = pipeline.Append(context.Transforms.NormalizeBinning(\n",
    "        inputColumnName: \"Longitude\",\n",
    "        outputColumnName: \"BinnedLongitude\",\n",
    "        maximumBinCount: 10\n",
    "    ))\n",
    "\n",
    "    // step 3: bin the latitude\n",
    "    .Append(context.Transforms.NormalizeBinning(\n",
    "        inputColumnName: \"Latitude\",\n",
    "        outputColumnName: \"BinnedLatitude\",\n",
    "        maximumBinCount: 10\n",
    "    ));"
   ]
  },
  {
   "cell_type": "code",
   "execution_count": null,
   "metadata": {
    "dotnet_interactive": {
     "language": "csharp"
    }
   },
   "outputs": [],
   "source": [
    "// run the pipeline and get the results\n",
    "var model = pipeline2.Fit(data);\n",
    "var transformedData = model.Transform(data);\n",
    "var preview = transformedData.Preview(maxRows: 10);\n",
    "display(preview);"
   ]
  },
  {
   "cell_type": "code",
   "execution_count": null,
   "metadata": {
    "dotnet_interactive": {
     "language": "csharp"
    }
   },
   "outputs": [],
   "source": [
    "// a helper class to access the new binned columns\n",
    "public class BinnedHouseBlockData\n",
    "{\n",
    "    public float BinnedLongitude { get; set; }\n",
    "    public float BinnedLatitude { get; set; }\n",
    "    public float MedianHouseValue { get; set; }\n",
    "}\n",
    "\n",
    "// get an array of binned housing data\n",
    "var binnedHhouses = context.Data.CreateEnumerable<BinnedHouseBlockData>(transformedData, reuseRowObject: false).ToArray();\n",
    "\n",
    "// plot median house value by binned latitude and longitude\n",
    "var chart = Chart.Plot(\n",
    "    new Graph.Scattergl()\n",
    "    {\n",
    "        x = binnedHhouses.Select(v => v.BinnedLongitude),\n",
    "        y = binnedHhouses.Select(v => v.BinnedLatitude),\n",
    "        mode = \"markers\",\n",
    "        marker = new Graph.Marker()\n",
    "        {\n",
    "            symbol = \"square\",\n",
    "            size = 32,\n",
    "            color = binnedHhouses.Select(v => v.MedianHouseValue),\n",
    "            colorscale = \"Jet\"\n",
    "        }\n",
    "    }\n",
    ");\n",
    "chart.WithXTitle(\"Binned Longitude\");\n",
    "chart.WithYTitle(\"Binned Latitude\");\n",
    "chart.WithTitle(\"Median house value by binned location\");\n",
    "chart.Width = 600;\n",
    "chart.Height = 600;\n",
    "display(chart);"
   ]
  },
  {
   "cell_type": "code",
   "execution_count": null,
   "metadata": {
    "dotnet_interactive": {
     "language": "csharp"
    }
   },
   "outputs": [],
   "source": [
    "// step 4: one-hot encode the longitude\n",
    "var pipeline3 = pipeline2.Append(context.Transforms.Categorical.OneHotEncoding(\n",
    "        inputColumnName: \"BinnedLongitude\",\n",
    "        outputColumnName: \"EncodedLongitude\"\n",
    "    ))\n",
    "\n",
    "    // step 5: one-hot encode the latitude\n",
    "    .Append(context.Transforms.Categorical.OneHotEncoding(\n",
    "        inputColumnName: \"BinnedLatitude\",\n",
    "        outputColumnName: \"EncodedLatitude\"\n",
    "    ))\n",
    "    \n",
    "    // step 6: cross the two one-hot encoded columns\n",
    "    .Append(context.Transforms.CustomMapping<FromLocation, ToLocation>(\n",
    "        (input, output) => { \n",
    "            output.Location = new float[input.EncodedLongitude.Length * input.EncodedLatitude.Length];\n",
    "            var index = 0;\n",
    "            for (var i = 0; i < input.EncodedLongitude.Length; i++)\n",
    "                for (var j = 0; j < input.EncodedLatitude.Length; j++)\n",
    "                    output.Location[index++] = input.EncodedLongitude[i] * input.EncodedLatitude[j];\n",
    "        },\n",
    "        contractName: \"Location\"\n",
    "    ))\n",
    "\n",
    "    // step 7: remove all the columns we don't need anymore\n",
    "    .Append(context.Transforms.DropColumns(\n",
    "        \"MedianHouseValue\",\n",
    "        \"Longitude\",\n",
    "        \"Latitude\",\n",
    "        \"BinnedLongitude\",\n",
    "        \"BinnedLatitude\",\n",
    "        \"EncodedLongitude\",\n",
    "        \"EncodedLatitude\"\n",
    "    ));"
   ]
  },
  {
   "cell_type": "code",
   "execution_count": null,
   "metadata": {
    "dotnet_interactive": {
     "language": "csharp"
    }
   },
   "outputs": [],
   "source": [
    "// run the pipeline and get the results\n",
    "var model = pipeline3.Fit(data);\n",
    "var transformedData = model.Transform(data);\n",
    "var preview = transformedData.Preview(maxRows: 10);\n",
    "display(preview);"
   ]
  },
  {
   "cell_type": "code",
   "execution_count": null,
   "metadata": {
    "dotnet_interactive": {
     "language": "csharp"
    }
   },
   "outputs": [],
   "source": [
    "var vectors = from r in preview.RowView\n",
    "              from v in r.Values where v.Key == \"Location\"\n",
    "              select ((VBuffer<Single>)v.Value).DenseValues();\n",
    "display(vectors);"
   ]
  },
  {
   "cell_type": "code",
   "execution_count": null,
   "metadata": {
    "dotnet_interactive": {
     "language": "csharp"
    }
   },
   "outputs": [],
   "source": []
  }
 ],
 "metadata": {
  "kernelspec": {
   "display_name": ".NET (C#)",
   "language": "C#",
   "name": ".net-csharp"
  },
  "language_info": {
   "file_extension": ".cs",
   "mimetype": "text/x-csharp",
   "name": "C#",
   "pygments_lexer": "csharp",
   "version": "8.0"
  }
 },
 "nbformat": 4,
 "nbformat_minor": 2
}