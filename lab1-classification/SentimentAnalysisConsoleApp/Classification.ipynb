{
 "cells": [
  {
   "cell_type": "code",
   "execution_count": null,
   "metadata": {
    "dotnet_interactive": {
     "language": "csharp"
    }
   },
   "outputs": [],
   "source": [
    "#r \"nuget:Microsoft.ML\""
   ]
  },
  {
   "cell_type": "code",
   "execution_count": null,
   "metadata": {
    "dotnet_interactive": {
     "language": "csharp"
    }
   },
   "outputs": [],
   "source": [
    "using System;\r\n",
    "using System.IO;\r\n",
    "using Microsoft.ML;\r\n",
    "using Microsoft.ML.Data;\r\n",
    "using static Microsoft.ML.DataOperationsCatalog;"
   ]
  },
  {
   "cell_type": "code",
   "execution_count": null,
   "metadata": {
    "dotnet_interactive": {
     "language": "csharp"
    }
   },
   "outputs": [],
   "source": [
    "public class SentimentIssue\r\n",
    "{\r\n",
    "    [LoadColumn(0)]\r\n",
    "    public bool Label { get; set; }\r\n",
    "    [LoadColumn(2)]\r\n",
    "    public string Text { get; set; }\r\n",
    "}"
   ]
  },
  {
   "cell_type": "code",
   "execution_count": null,
   "metadata": {
    "dotnet_interactive": {
     "language": "csharp"
    }
   },
   "outputs": [],
   "source": [
    "public class SentimentPrediction : SentimentIssue\r\n",
    "{\r\n",
    "    // ColumnName attribute is used to change the column name from\r\n",
    "    // its default value, which is the name of the field.\r\n",
    "    [ColumnName(\"PredictedLabel\")]\r\n",
    "    public bool Prediction { get; set; }\r\n",
    "\r\n",
    "    // No need to specify ColumnName attribute, because the field\r\n",
    "    // name \"Probability\" is the column name we want.\r\n",
    "    public float Probability { get; set; }\r\n",
    "\r\n",
    "    public float Score { get; set; }\r\n",
    "}"
   ]
  },
  {
   "cell_type": "code",
   "execution_count": null,
   "metadata": {
    "dotnet_interactive": {
     "language": "csharp"
    }
   },
   "outputs": [],
   "source": [
    "var mlContext = new MLContext(seed: 1);"
   ]
  },
  {
   "cell_type": "code",
   "execution_count": null,
   "metadata": {
    "dotnet_interactive": {
     "language": "csharp"
    }
   },
   "outputs": [],
   "source": [
    "IDataView dataView = mlContext.Data.LoadFromTextFile<SentimentIssue>(@\"..\\Data\\wikiDetoxAnnotated40kRows.tsv\", hasHeader: true);"
   ]
  },
  {
   "cell_type": "code",
   "execution_count": null,
   "metadata": {
    "dotnet_interactive": {
     "language": "csharp"
    }
   },
   "outputs": [
    {
     "data": {
      "text/html": [
       "<table><thead><tr><th><i>index</i></th><th>Values</th></tr></thead><tbody><tr><td>0</td><td><div class=\"dni-plaintext\">[ Label: False, Text: &quot;  ==He is a Rapist!!!!!== Please edit the article to include this important fact. Thank You.  —&#160;Preceding unsigned comment added by   •   &quot; ]</div></td></tr><tr><td>1</td><td><div class=\"dni-plaintext\">[ Label: False, Text: The other two films Hitch and Magnolia are also directly related to the community in question, and may be of interest to those who see those films.  So why not link to them?   ]</div></td></tr><tr><td>2</td><td><div class=\"dni-plaintext\">[ Label: False, Text: == blocking people ==  how can i block lambs12 from my page and editing my stuff she&#39;s saying bad things she&#39;s my sister   ]</div></td></tr><tr><td>3</td><td><div class=\"dni-plaintext\">[ Label: True, Text: == Are you a female????? ==  mootmootmootmootmootmootmootmootmootmoot ]</div></td></tr><tr><td>4</td><td><div class=\"dni-plaintext\">[ Label: False, Text: :::::Good enough for me; thanks for the info. I&#39;ll check the Sheffield references later. -    ]</div></td></tr><tr><td>5</td><td><div class=\"dni-plaintext\">[ Label: False, Text: == Motherjane concert location ==  Hi,  Motherjane, being a popular band, has headlined a lot of college rock festivals in India. But quoting the name of every college that they have performed is not quite right. So please refrain from adding the names of any more colleges/institutes. Thanks! —    ]</div></td></tr><tr><td>6</td><td><div class=\"dni-plaintext\">[ Label: False, Text: == warning ==  don&#39;t vandalize    ]</div></td></tr><tr><td>7</td><td><div class=\"dni-plaintext\">[ Label: False, Text: &quot; :There were reviews from critics in her song?   &quot; ]</div></td></tr><tr><td>8</td><td><div class=\"dni-plaintext\">[ Label: False, Text: &quot;  Jack, is it a misrepresentation for you to write more than 500,000 nucleotide base pairs, or should you write 582 base pair.   Lets start watching &quot;&quot;RNA world&quot;&quot; page too.   &quot; ]</div></td></tr><tr><td>9</td><td><div class=\"dni-plaintext\">[ Label: False, Text: &quot;:Thank you, I will use these tool responsibly.  (Editor Review)   &quot; ]</div></td></tr></tbody></table>"
      ]
     },
     "output_type": "unknown"
    }
   ],
   "source": [
    "display(dataView.Preview(10).RowView);"
   ]
  },
  {
   "cell_type": "code",
   "execution_count": null,
   "metadata": {
    "dotnet_interactive": {
     "language": "csharp"
    }
   },
   "outputs": [],
   "source": [
    "TrainTestData trainTestSplit = mlContext.Data.TrainTestSplit(dataView, testFraction: 0.2);\r\n",
    "IDataView trainingData = trainTestSplit.TrainSet;\r\n",
    "IDataView testData = trainTestSplit.TestSet;"
   ]
  },
  {
   "cell_type": "code",
   "execution_count": null,
   "metadata": {
    "dotnet_interactive": {
     "language": "csharp"
    }
   },
   "outputs": [
    {
     "data": {
      "text/html": [
       "<table><thead><tr><th><i>index</i></th><th>Values</th></tr></thead><tbody><tr><td>0</td><td><div class=\"dni-plaintext\">[ Label: False, Text: &quot;  ==He is a Rapist!!!!!== Please edit the article to include this important fact. Thank You.  —&#160;Preceding unsigned comment added by   •   &quot; ]</div></td></tr><tr><td>1</td><td><div class=\"dni-plaintext\">[ Label: False, Text: The other two films Hitch and Magnolia are also directly related to the community in question, and may be of interest to those who see those films.  So why not link to them?   ]</div></td></tr><tr><td>2</td><td><div class=\"dni-plaintext\">[ Label: True, Text: == Are you a female????? ==  mootmootmootmootmootmootmootmootmootmoot ]</div></td></tr><tr><td>3</td><td><div class=\"dni-plaintext\">[ Label: False, Text: :::::Good enough for me; thanks for the info. I&#39;ll check the Sheffield references later. -    ]</div></td></tr><tr><td>4</td><td><div class=\"dni-plaintext\">[ Label: False, Text: == Motherjane concert location ==  Hi,  Motherjane, being a popular band, has headlined a lot of college rock festivals in India. But quoting the name of every college that they have performed is not quite right. So please refrain from adding the names of any more colleges/institutes. Thanks! —    ]</div></td></tr><tr><td>5</td><td><div class=\"dni-plaintext\">[ Label: False, Text: == warning ==  don&#39;t vandalize    ]</div></td></tr><tr><td>6</td><td><div class=\"dni-plaintext\">[ Label: False, Text: &quot; :There were reviews from critics in her song?   &quot; ]</div></td></tr><tr><td>7</td><td><div class=\"dni-plaintext\">[ Label: False, Text: &quot;  Jack, is it a misrepresentation for you to write more than 500,000 nucleotide base pairs, or should you write 582 base pair.   Lets start watching &quot;&quot;RNA world&quot;&quot; page too.   &quot; ]</div></td></tr><tr><td>8</td><td><div class=\"dni-plaintext\">[ Label: False, Text: &quot;:Thank you, I will use these tool responsibly.  (Editor Review)   &quot; ]</div></td></tr><tr><td>9</td><td><div class=\"dni-plaintext\">[ Label: False, Text: HELLO SITUSH ARE YOU THERE?? PEOPLE HAVE SOME QUESTIONS ]</div></td></tr></tbody></table>"
      ]
     },
     "output_type": "unknown"
    }
   ],
   "source": [
    "display(trainingData.Preview(10).RowView);"
   ]
  },
  {
   "cell_type": "code",
   "execution_count": null,
   "metadata": {
    "dotnet_interactive": {
     "language": "csharp"
    }
   },
   "outputs": [
    {
     "data": {
      "text/html": [
       "<table><thead><tr><th><i>index</i></th><th>Values</th></tr></thead><tbody><tr><td>0</td><td><div class=\"dni-plaintext\">[ Label: False, Text: == blocking people ==  how can i block lambs12 from my page and editing my stuff she&#39;s saying bad things she&#39;s my sister   ]</div></td></tr><tr><td>1</td><td><div class=\"dni-plaintext\">[ Label: False, Text: &quot; :Michael, with all due respect, it&#39;s over. It may be that you can do math better than me, but it&#39;s not the math that&#39;s the problem, it&#39;s statements like &quot;&quot;I don&#39;t know a whole lot about this case, but I tend to think that race may well be relevant here&quot;&quot; and &quot;&quot;My first instinct is it likely should be included as the news accounts likely included the information. But did they or was this simply not an issue?&quot;&quot;. I assume you are &quot;&quot;counting&quot;&quot; those as &quot;&quot;in favour of inclusion&quot;&quot;really, one can&#39;t. They are not unequivocal inclusion votes and raise more questions than they answer. Moreover, I assume you&#39;re including comments like &quot;&quot;I agree that race should be included as long as it does not violate WP:UNDUE.&quot;&quot; That&#39;s finebut this participant did not address how the inclusion does not violate UNDUE, and since this (as John points out) is not a vote, such a statement can&#39;t have the full weight as is carried by the more complete answers of John and Beyond My Ken.   &quot; ]</div></td></tr><tr><td>2</td><td><div class=\"dni-plaintext\">[ Label: False, Text: == Ecotheology is a acceptet term ==  I strongly suggest that the headline is keept. Just check out the web, ecotheology is a well known and accepted term. Religion and economy can be a link or further reading.  ]</div></td></tr><tr><td>3</td><td><div class=\"dni-plaintext\">[ Label: False, Text: Welcome  Hello and welcome to Wikipedia.  We appreciate encyclopedic contributions, but some of your recent contributions seem to be advertising or for promotional purposes.  Wikipedia does not allow advertising in articles.  For more information on this, see *Policy on neutral point of view *Guideline on spam *Guideline on external links *Guideline on conflict of interest If you still have questions, there is a new contributor&#39;s help page, or you can write {{helpme}} below this message along with a question and someone will be along to answer it shortly.  You may also find the following pages useful for a general introduction to Wikipedia. *The five pillars of Wikipedia *How to edit a page *Help pages *Tutorial *How to write a great article *Manual of Style I hope you enjoy editing Wikipedia!  Please sign your name on talk pages using four tildes (~~~~); this will automatically produce your name and the date. Feel free to write a note on the bottom of my talk page if you want to get in touch with me. Again, welcome!   ]</div></td></tr><tr><td>4</td><td><div class=\"dni-plaintext\">[ Label: False, Text: Does anyone know where the 6 for €8 fosters is gone? havnt seen that feckin pack lately ]</div></td></tr><tr><td>5</td><td><div class=\"dni-plaintext\">[ Label: False, Text: :Are you saying Quinn is fringe or Quinn&#39;s argument on gays is fringe? I&#39;m not sure Quinn himself is fringe. Ed Decker on the other hand... I&#39;d say if consensus around the definition of a fringe critic could be built and fringe critics could be identified, a better place for their criticisms would be the Anti-Mormonism article. That would be consistent with WP:FRINGE because it would place the criticisms in context. That being said, I do agree with your identification of Quinn as an openly gay critic, given the nature of his criticism.    ]</div></td></tr><tr><td>6</td><td><div class=\"dni-plaintext\">[ Label: False, Text: == Uma Thurman ==  Hello, Noreplyhaha! If you&#39;d like to make a case for undoing my edits to the Uma Thurman entry, I&#39;d love to know what your reasons are. I think my edits are all justified for the reasons I stated in the comments, and I will be re-entering them unless there is an important reason not to.     ]</div></td></tr><tr><td>7</td><td><div class=\"dni-plaintext\">[ Label: False, Text: racisim. Obviously it has failed.]]   ]</div></td></tr><tr><td>8</td><td><div class=\"dni-plaintext\">[ Label: True, Text: so many ppl tlk on dis stoopid site i swear they must be retarded ]</div></td></tr><tr><td>9</td><td><div class=\"dni-plaintext\">[ Label: False, Text: &quot;  == GA Review II ==  I&#39;m sorry to say this, but I have to fail this article&#39;s GAN. The several major problems that  brought up in this article&#39;s previous GA assessment have not been issued. As s/he has said before me, &quot;&quot;he article&#39;s WP:LEAD should be longer. The History, Media attention, Academics, Student Government, Demographics, Trivia, and Additional Information section are very deficient in citiations. Also, Triva and Additional information should be integrated into the rest of the article.&quot;&quot; Again, please look over WP:WIAGA and fix these problem, then renominate it for GA-class. However, I have re-assessed this article as B-class, as it does meet B-class criteria. My regards,   &quot; ]</div></td></tr></tbody></table>"
      ]
     },
     "output_type": "unknown"
    }
   ],
   "source": [
    "display(testData.Preview(10).RowView);"
   ]
  },
  {
   "cell_type": "code",
   "execution_count": null,
   "metadata": {
    "dotnet_interactive": {
     "language": "csharp"
    }
   },
   "outputs": [],
   "source": [
    "// STEP 2: Common data process configuration with pipeline data transformations          \r\n",
    "var dataProcessPipeline = mlContext.Transforms.Text.FeaturizeText(\r\n",
    "    outputColumnName: \"Features\", \r\n",
    "    inputColumnName: nameof(SentimentIssue.Text));"
   ]
  },
  {
   "cell_type": "code",
   "execution_count": null,
   "metadata": {
    "dotnet_interactive": {
     "language": "csharp"
    }
   },
   "outputs": [],
   "source": [
    "// STEP 3: Set the training algorithm, then create and config the modelBuilder                            \r\n",
    "var trainer = mlContext.BinaryClassification.Trainers.SdcaLogisticRegression(labelColumnName: \"Label\", featureColumnName: \"Features\");\r\n",
    "var trainingPipeline = dataProcessPipeline.Append(trainer);"
   ]
  },
  {
   "cell_type": "code",
   "execution_count": null,
   "metadata": {
    "dotnet_interactive": {
     "language": "csharp"
    }
   },
   "outputs": [],
   "source": [
    "// STEP 4: Train the model fitting to the DataSet\r\n",
    "var trainedModel = trainingPipeline.Fit(trainingData);"
   ]
  },
  {
   "cell_type": "code",
   "execution_count": null,
   "metadata": {
    "dotnet_interactive": {
     "language": "csharp"
    }
   },
   "outputs": [
    {
     "data": {
      "text/html": [
       "<table><thead><tr><th><i>index</i></th><th><i>type</i></th><th>FeatureColumnName</th><th>FeatureColumnType</th><th>Model</th></tr></thead><tbody><tr><td>0</td><td><span><a href=\"https://docs.microsoft.com/dotnet/api/microsoft.ml.transforms.text.textfeaturizingestimator.transformer?view=net-5.0\">Microsoft.ML.Transforms.Text.TextFeaturizingEstimator+Transformer</a></span></td><td></td><td></td><td></td></tr><tr><td>1</td><td><span><a href=\"https://docs.microsoft.com/dotnet/api/microsoft.ml.data.binarypredictiontransformer-1?view=net-5.0\">Microsoft.ML.Data.BinaryPredictionTransformer&lt;Microsoft.ML.Calibrators.CalibratedModelParametersBase&lt;Microsoft.ML.Trainers.LinearBinaryModelParameters,Microsoft.ML.Calibrators.PlattCalibrator&gt;&gt;</a></span></td><td>Features</td><td><table><thead><tr><th>Dimensions</th><th>IsKnownSize</th><th>ItemType</th><th>Size</th><th>RawType</th></tr></thead><tbody><tr><td><div class=\"dni-plaintext\">[ 1017430 ]</div></td><td><div class=\"dni-plaintext\">True</div></td><td><div class=\"dni-plaintext\">{ Single: RawType: System.Single }</div></td><td><div class=\"dni-plaintext\">1017430</div></td><td><div class=\"dni-plaintext\">Microsoft.ML.Data.VBuffer&lt;System.Single&gt;</div></td></tr></tbody></table></td><td><table><thead><tr><th>SubModel</th><th>Calibrator</th><th>SubModel</th><th>Calibrator</th></tr></thead><tbody><tr><td><div class=\"dni-plaintext\">Microsoft.ML.Calibrators.ParameterMixingCalibratedModelParameters`2[Microsoft.ML.Trainers.LinearBinaryModelParameters,Microsoft.ML.Calibrators.PlattCalibrator]</div></td><td><div class=\"dni-plaintext\">Microsoft.ML.Calibrators.ParameterMixingCalibratedModelParameters`2[Microsoft.ML.Trainers.LinearBinaryModelParameters,Microsoft.ML.Calibrators.PlattCalibrator]</div></td><td><div class=\"dni-plaintext\">Microsoft.ML.Calibrators.ParameterMixingCalibratedModelParameters`2[Microsoft.ML.Trainers.LinearBinaryModelParameters,Microsoft.ML.Calibrators.PlattCalibrator]</div></td><td><div class=\"dni-plaintext\">Microsoft.ML.Calibrators.ParameterMixingCalibratedModelParameters`2[Microsoft.ML.Trainers.LinearBinaryModelParameters,Microsoft.ML.Calibrators.PlattCalibrator]</div></td></tr></tbody></table></td></tr></tbody></table>"
      ]
     },
     "output_type": "unknown"
    }
   ],
   "source": [
    "display(trainedModel);"
   ]
  },
  {
   "cell_type": "code",
   "execution_count": null,
   "metadata": {
    "dotnet_interactive": {
     "language": "csharp"
    }
   },
   "outputs": [],
   "source": [
    "// STEP 5: Evaluate the model and show accuracy stats\r\n",
    "var predictions = trainedModel.Transform(testData);\r\n",
    "var metrics = mlContext.BinaryClassification.Evaluate(data: predictions, labelColumnName: \"Label\", scoreColumnName: \"Score\");"
   ]
  },
  {
   "cell_type": "code",
   "execution_count": null,
   "metadata": {
    "dotnet_interactive": {
     "language": "csharp"
    }
   },
   "outputs": [
    {
     "data": {
      "text/plain": [
       "Microsoft.ML.Trainers.SdcaLogisticRegressionBinaryTrainer"
      ]
     },
     "output_type": "unknown"
    }
   ],
   "source": [
    "display(trainer.ToString())"
   ]
  },
  {
   "cell_type": "code",
   "execution_count": null,
   "metadata": {
    "dotnet_interactive": {
     "language": "csharp"
    }
   },
   "outputs": [
    {
     "data": {
      "text/html": [
       "<table><thead><tr><th>LogLoss</th><th>LogLossReduction</th><th>Entropy</th><th>AreaUnderRocCurve</th><th>Accuracy</th><th>PositivePrecision</th><th>PositiveRecall</th><th>NegativePrecision</th><th>NegativeRecall</th><th>F1Score</th><th>AreaUnderPrecisionRecallCurve</th><th>ConfusionMatrix</th></tr></thead><tbody><tr><td><div class=\"dni-plaintext\">0.21232935202791528</div></td><td><div class=\"dni-plaintext\">0.5282117726643863</div></td><td><div class=\"dni-plaintext\">0.4500522474395522</div></td><td><div class=\"dni-plaintext\">0.94170723287864</div></td><td><div class=\"dni-plaintext\">0.9480064991876016</div></td><td><div class=\"dni-plaintext\">0.9040767386091128</div></td><td><div class=\"dni-plaintext\">0.50066401062417</div></td><td><div class=\"dni-plaintext\">0.95042194092827</div></td><td><div class=\"dni-plaintext\">0.9944812362030905</div></td><td><div class=\"dni-plaintext\">0.6444444444444444</div></td><td><div class=\"dni-plaintext\">0.7757276738856298</div></td><td><div class=\"dni-plaintext\">{ Microsoft.ML.Data.ConfusionMatrix: PerClassPrecision: [ 0.9040767386091128, 0.95042194092827 ], PerClassRecall: [ 0.50066401062417, 0.9944812362030905 ], Counts: [ [ 377, 376 ], [ 40, 7208 ] ], NumberOfClasses: 2 }</div></td></tr></tbody></table>"
      ]
     },
     "output_type": "unknown"
    }
   ],
   "source": [
    "display(metrics);"
   ]
  },
  {
   "cell_type": "code",
   "execution_count": null,
   "metadata": {
    "dotnet_interactive": {
     "language": "csharp"
    }
   },
   "outputs": [],
   "source": [
    "SentimentIssue sampleStatement = new SentimentIssue { Text = \"Your service is crappy *0(*!!!!!!s****.\" };"
   ]
  },
  {
   "cell_type": "code",
   "execution_count": null,
   "metadata": {
    "dotnet_interactive": {
     "language": "csharp"
    }
   },
   "outputs": [],
   "source": [
    "var predictionEngine = mlContext.Model.CreatePredictionEngine<SentimentIssue, SentimentPrediction>(trainedModel);"
   ]
  },
  {
   "cell_type": "code",
   "execution_count": null,
   "metadata": {
    "dotnet_interactive": {
     "language": "csharp"
    }
   },
   "outputs": [],
   "source": [
    "var prediction = predictionEngine.Predict(sampleStatement);"
   ]
  },
  {
   "cell_type": "code",
   "execution_count": null,
   "metadata": {
    "dotnet_interactive": {
     "language": "csharp"
    }
   },
   "outputs": [
    {
     "data": {
      "text/html": [
       "<table><thead><tr><th>Prediction</th><th>Probability</th><th>Score</th><th>Label</th><th>Text</th></tr></thead><tbody><tr><td><div class=\"dni-plaintext\">True</div></td><td><div class=\"dni-plaintext\">0.78806555</div></td><td><div class=\"dni-plaintext\">1.3133042</div></td><td><div class=\"dni-plaintext\">False</div></td><td><div class=\"dni-plaintext\">Your service is crappy *0(*!!!!!!s****.</div></td></tr></tbody></table>"
      ]
     },
     "output_type": "unknown"
    }
   ],
   "source": [
    "display(prediction);"
   ]
  },
  {
   "cell_type": "code",
   "execution_count": null,
   "metadata": {
    "dotnet_interactive": {
     "language": "csharp"
    }
   },
   "outputs": [],
   "source": []
  }
 ],
 "metadata": {
  "kernelspec": {
   "display_name": ".NET (C#)",
   "language": "C#",
   "name": ".net-csharp"
  },
  "language_info": {
   "name": "C#"
  }
 },
 "nbformat": 4,
 "nbformat_minor": 2
}